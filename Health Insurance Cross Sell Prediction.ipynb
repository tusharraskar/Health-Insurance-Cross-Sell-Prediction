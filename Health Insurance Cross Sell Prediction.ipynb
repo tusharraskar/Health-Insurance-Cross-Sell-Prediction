{
 "cells": [
  {
   "cell_type": "markdown",
   "id": "b4b36f27",
   "metadata": {},
   "source": [
    "# Problem Statement\n",
    "\n",
    "### Business Problem Overview\n",
    "\n",
    "An insurance company is looking to build a model to predict whether their past health insurance policyholders would also be interested in purchasing vehicle insurance from the company. \n",
    "\n",
    "An insurance policy is a contract where the company agrees to provide compensation for specific losses, injuries, or death in exchange for regular payments called premiums. \n",
    "\n",
    "In this case, the company wants to use information about the customer's demographics, vehicle details, and previous insurance policy information to predict their interest in vehicle insurance. \n",
    "\n",
    "This information would be used to target marketing efforts and optimize the company's revenue.\n",
    "\n",
    "### Business Objective\n",
    "\n",
    "The business objective for a health insurance cross-sell prediction is to identify potential customers who are likely to purchase additional health insurance products, such as supplemental coverage or dental insurance. \n",
    "\n",
    "This allows the insurance company to target their marketing efforts towards these individuals, potentially increasing sales and revenue. \n",
    "\n",
    "Additionally, by identifying and targeting high-risk customers, the insurance company can also improve their risk management and profitability."
   ]
  },
  {
   "cell_type": "code",
   "execution_count": 34,
   "id": "43f911f4",
   "metadata": {},
   "outputs": [],
   "source": [
    "import pandas as pd \n",
    "import numpy as np\n",
    "import matplotlib.pyplot as plt \n",
    "import seaborn as sns\n",
    "\n",
    "import warnings\n",
    "warnings.filterwarnings('ignore')"
   ]
  },
  {
   "cell_type": "code",
   "execution_count": 2,
   "id": "addc0a6d",
   "metadata": {},
   "outputs": [],
   "source": [
    "data = pd.read_csv('TRAIN-HEALTH INSURANCE CROSS SELL PREDICTION.csv')"
   ]
  },
  {
   "cell_type": "code",
   "execution_count": 3,
   "id": "bef7b34d",
   "metadata": {},
   "outputs": [
    {
     "data": {
      "text/html": [
       "<div>\n",
       "<style scoped>\n",
       "    .dataframe tbody tr th:only-of-type {\n",
       "        vertical-align: middle;\n",
       "    }\n",
       "\n",
       "    .dataframe tbody tr th {\n",
       "        vertical-align: top;\n",
       "    }\n",
       "\n",
       "    .dataframe thead th {\n",
       "        text-align: right;\n",
       "    }\n",
       "</style>\n",
       "<table border=\"1\" class=\"dataframe\">\n",
       "  <thead>\n",
       "    <tr style=\"text-align: right;\">\n",
       "      <th></th>\n",
       "      <th>id</th>\n",
       "      <th>Gender</th>\n",
       "      <th>Age</th>\n",
       "      <th>Driving_License</th>\n",
       "      <th>Region_Code</th>\n",
       "      <th>Previously_Insured</th>\n",
       "      <th>Vehicle_Age</th>\n",
       "      <th>Vehicle_Damage</th>\n",
       "      <th>Annual_Premium</th>\n",
       "      <th>Policy_Sales_Channel</th>\n",
       "      <th>Vintage</th>\n",
       "      <th>Response</th>\n",
       "    </tr>\n",
       "  </thead>\n",
       "  <tbody>\n",
       "    <tr>\n",
       "      <th>0</th>\n",
       "      <td>1</td>\n",
       "      <td>Male</td>\n",
       "      <td>44</td>\n",
       "      <td>1</td>\n",
       "      <td>28.0</td>\n",
       "      <td>0</td>\n",
       "      <td>&gt; 2 Years</td>\n",
       "      <td>Yes</td>\n",
       "      <td>40454.0</td>\n",
       "      <td>26.0</td>\n",
       "      <td>217</td>\n",
       "      <td>1</td>\n",
       "    </tr>\n",
       "    <tr>\n",
       "      <th>1</th>\n",
       "      <td>2</td>\n",
       "      <td>Male</td>\n",
       "      <td>76</td>\n",
       "      <td>1</td>\n",
       "      <td>3.0</td>\n",
       "      <td>0</td>\n",
       "      <td>1-2 Year</td>\n",
       "      <td>No</td>\n",
       "      <td>33536.0</td>\n",
       "      <td>26.0</td>\n",
       "      <td>183</td>\n",
       "      <td>0</td>\n",
       "    </tr>\n",
       "    <tr>\n",
       "      <th>2</th>\n",
       "      <td>3</td>\n",
       "      <td>Male</td>\n",
       "      <td>47</td>\n",
       "      <td>1</td>\n",
       "      <td>28.0</td>\n",
       "      <td>0</td>\n",
       "      <td>&gt; 2 Years</td>\n",
       "      <td>Yes</td>\n",
       "      <td>38294.0</td>\n",
       "      <td>26.0</td>\n",
       "      <td>27</td>\n",
       "      <td>1</td>\n",
       "    </tr>\n",
       "    <tr>\n",
       "      <th>3</th>\n",
       "      <td>4</td>\n",
       "      <td>Male</td>\n",
       "      <td>21</td>\n",
       "      <td>1</td>\n",
       "      <td>11.0</td>\n",
       "      <td>1</td>\n",
       "      <td>&lt; 1 Year</td>\n",
       "      <td>No</td>\n",
       "      <td>28619.0</td>\n",
       "      <td>152.0</td>\n",
       "      <td>203</td>\n",
       "      <td>0</td>\n",
       "    </tr>\n",
       "    <tr>\n",
       "      <th>4</th>\n",
       "      <td>5</td>\n",
       "      <td>Female</td>\n",
       "      <td>29</td>\n",
       "      <td>1</td>\n",
       "      <td>41.0</td>\n",
       "      <td>1</td>\n",
       "      <td>&lt; 1 Year</td>\n",
       "      <td>No</td>\n",
       "      <td>27496.0</td>\n",
       "      <td>152.0</td>\n",
       "      <td>39</td>\n",
       "      <td>0</td>\n",
       "    </tr>\n",
       "  </tbody>\n",
       "</table>\n",
       "</div>"
      ],
      "text/plain": [
       "   id  Gender  Age  Driving_License  Region_Code  Previously_Insured  \\\n",
       "0   1    Male   44                1         28.0                   0   \n",
       "1   2    Male   76                1          3.0                   0   \n",
       "2   3    Male   47                1         28.0                   0   \n",
       "3   4    Male   21                1         11.0                   1   \n",
       "4   5  Female   29                1         41.0                   1   \n",
       "\n",
       "  Vehicle_Age Vehicle_Damage  Annual_Premium  Policy_Sales_Channel  Vintage  \\\n",
       "0   > 2 Years            Yes         40454.0                  26.0      217   \n",
       "1    1-2 Year             No         33536.0                  26.0      183   \n",
       "2   > 2 Years            Yes         38294.0                  26.0       27   \n",
       "3    < 1 Year             No         28619.0                 152.0      203   \n",
       "4    < 1 Year             No         27496.0                 152.0       39   \n",
       "\n",
       "   Response  \n",
       "0         1  \n",
       "1         0  \n",
       "2         1  \n",
       "3         0  \n",
       "4         0  "
      ]
     },
     "execution_count": 3,
     "metadata": {},
     "output_type": "execute_result"
    }
   ],
   "source": [
    "# Viewing data's first 5 row\n",
    "\n",
    "data.head()"
   ]
  },
  {
   "cell_type": "code",
   "execution_count": 4,
   "id": "8dfec353",
   "metadata": {},
   "outputs": [
    {
     "data": {
      "text/plain": [
       "(381109, 12)"
      ]
     },
     "execution_count": 4,
     "metadata": {},
     "output_type": "execute_result"
    }
   ],
   "source": [
    "# Chicking shape of data\n",
    "\n",
    "data.shape"
   ]
  },
  {
   "cell_type": "markdown",
   "id": "98f7b317",
   "metadata": {},
   "source": [
    "#### Data has 381109 rows and 12 columns."
   ]
  },
  {
   "cell_type": "markdown",
   "id": "30a2142f",
   "metadata": {},
   "source": [
    "### Variables Description \n",
    "\n",
    "id          : Unique ID for customer\n",
    "\n",
    "Gender        : Male/Female\n",
    "\n",
    "Age         : Age of customer\n",
    "\n",
    "Driving License   : Customer has DL or not\n",
    "\n",
    "Region_Code       : Unique code for the region of the customer\n",
    "\n",
    "Previously_insured         : Customer already has vehicle insurance or not\n",
    "\n",
    "Vehicle_age       : Age of the vehicle\n",
    "\n",
    "Vehicle_damage     : Past damages present or not\n",
    "\n",
    "Annual_premium      : The amount customer needs to pay as premium\n",
    "\n",
    "PolicySalesChannel      : Anonymized Code for the channel of outreaching to the customer ie.\n",
    "                          Different Agents, Over Mail, Over Phone, In Person, etc\n",
    "                          \n",
    "Vintage           : Number of Days, Customer has been associated with the company  \n",
    "\n",
    "Response      : Customer is interested or not       "
   ]
  },
  {
   "cell_type": "code",
   "execution_count": 5,
   "id": "3d4ade40",
   "metadata": {},
   "outputs": [
    {
     "data": {
      "text/plain": [
       "id                        int64\n",
       "Gender                   object\n",
       "Age                       int64\n",
       "Driving_License           int64\n",
       "Region_Code             float64\n",
       "Previously_Insured        int64\n",
       "Vehicle_Age              object\n",
       "Vehicle_Damage           object\n",
       "Annual_Premium          float64\n",
       "Policy_Sales_Channel    float64\n",
       "Vintage                   int64\n",
       "Response                  int64\n",
       "dtype: object"
      ]
     },
     "execution_count": 5,
     "metadata": {},
     "output_type": "execute_result"
    }
   ],
   "source": [
    "# Checking data types\n",
    "\n",
    "data.dtypes"
   ]
  },
  {
   "cell_type": "markdown",
   "id": "4c5accae",
   "metadata": {},
   "source": [
    "## Ckechking null or missing values"
   ]
  },
  {
   "cell_type": "code",
   "execution_count": 6,
   "id": "27fc8b3d",
   "metadata": {},
   "outputs": [
    {
     "data": {
      "text/plain": [
       "id                      0\n",
       "Gender                  0\n",
       "Age                     0\n",
       "Driving_License         0\n",
       "Region_Code             0\n",
       "Previously_Insured      0\n",
       "Vehicle_Age             0\n",
       "Vehicle_Damage          0\n",
       "Annual_Premium          0\n",
       "Policy_Sales_Channel    0\n",
       "Vintage                 0\n",
       "Response                0\n",
       "dtype: int64"
      ]
     },
     "execution_count": 6,
     "metadata": {},
     "output_type": "execute_result"
    }
   ],
   "source": [
    "data.isnull().sum()"
   ]
  },
  {
   "cell_type": "markdown",
   "id": "a7530b21",
   "metadata": {},
   "source": [
    "#### In our data there no null or missing values"
   ]
  },
  {
   "cell_type": "markdown",
   "id": "db3bb459",
   "metadata": {},
   "source": [
    "## Checking unique values in each feature"
   ]
  },
  {
   "cell_type": "code",
   "execution_count": 7,
   "id": "04f21986",
   "metadata": {},
   "outputs": [
    {
     "data": {
      "text/plain": [
       "id                      381109\n",
       "Gender                       2\n",
       "Age                         66\n",
       "Driving_License              2\n",
       "Region_Code                 53\n",
       "Previously_Insured           2\n",
       "Vehicle_Age                  3\n",
       "Vehicle_Damage               2\n",
       "Annual_Premium           48838\n",
       "Policy_Sales_Channel       155\n",
       "Vintage                    290\n",
       "Response                     2\n",
       "dtype: int64"
      ]
     },
     "execution_count": 7,
     "metadata": {},
     "output_type": "execute_result"
    }
   ],
   "source": [
    "data.nunique()"
   ]
  },
  {
   "cell_type": "markdown",
   "id": "b33bdbb7",
   "metadata": {},
   "source": [
    "## Data Describe"
   ]
  },
  {
   "cell_type": "code",
   "execution_count": 8,
   "id": "42ac93cc",
   "metadata": {},
   "outputs": [
    {
     "data": {
      "text/html": [
       "<div>\n",
       "<style scoped>\n",
       "    .dataframe tbody tr th:only-of-type {\n",
       "        vertical-align: middle;\n",
       "    }\n",
       "\n",
       "    .dataframe tbody tr th {\n",
       "        vertical-align: top;\n",
       "    }\n",
       "\n",
       "    .dataframe thead th {\n",
       "        text-align: right;\n",
       "    }\n",
       "</style>\n",
       "<table border=\"1\" class=\"dataframe\">\n",
       "  <thead>\n",
       "    <tr style=\"text-align: right;\">\n",
       "      <th></th>\n",
       "      <th>id</th>\n",
       "      <th>Age</th>\n",
       "      <th>Driving_License</th>\n",
       "      <th>Region_Code</th>\n",
       "      <th>Previously_Insured</th>\n",
       "      <th>Annual_Premium</th>\n",
       "      <th>Policy_Sales_Channel</th>\n",
       "      <th>Vintage</th>\n",
       "      <th>Response</th>\n",
       "    </tr>\n",
       "  </thead>\n",
       "  <tbody>\n",
       "    <tr>\n",
       "      <th>count</th>\n",
       "      <td>381109.000000</td>\n",
       "      <td>381109.000000</td>\n",
       "      <td>381109.000000</td>\n",
       "      <td>381109.000000</td>\n",
       "      <td>381109.000000</td>\n",
       "      <td>381109.000000</td>\n",
       "      <td>381109.000000</td>\n",
       "      <td>381109.000000</td>\n",
       "      <td>381109.000000</td>\n",
       "    </tr>\n",
       "    <tr>\n",
       "      <th>mean</th>\n",
       "      <td>190555.000000</td>\n",
       "      <td>38.822584</td>\n",
       "      <td>0.997869</td>\n",
       "      <td>26.388807</td>\n",
       "      <td>0.458210</td>\n",
       "      <td>30564.389581</td>\n",
       "      <td>112.034295</td>\n",
       "      <td>154.347397</td>\n",
       "      <td>0.122563</td>\n",
       "    </tr>\n",
       "    <tr>\n",
       "      <th>std</th>\n",
       "      <td>110016.836208</td>\n",
       "      <td>15.511611</td>\n",
       "      <td>0.046110</td>\n",
       "      <td>13.229888</td>\n",
       "      <td>0.498251</td>\n",
       "      <td>17213.155057</td>\n",
       "      <td>54.203995</td>\n",
       "      <td>83.671304</td>\n",
       "      <td>0.327936</td>\n",
       "    </tr>\n",
       "    <tr>\n",
       "      <th>min</th>\n",
       "      <td>1.000000</td>\n",
       "      <td>20.000000</td>\n",
       "      <td>0.000000</td>\n",
       "      <td>0.000000</td>\n",
       "      <td>0.000000</td>\n",
       "      <td>2630.000000</td>\n",
       "      <td>1.000000</td>\n",
       "      <td>10.000000</td>\n",
       "      <td>0.000000</td>\n",
       "    </tr>\n",
       "    <tr>\n",
       "      <th>25%</th>\n",
       "      <td>95278.000000</td>\n",
       "      <td>25.000000</td>\n",
       "      <td>1.000000</td>\n",
       "      <td>15.000000</td>\n",
       "      <td>0.000000</td>\n",
       "      <td>24405.000000</td>\n",
       "      <td>29.000000</td>\n",
       "      <td>82.000000</td>\n",
       "      <td>0.000000</td>\n",
       "    </tr>\n",
       "    <tr>\n",
       "      <th>50%</th>\n",
       "      <td>190555.000000</td>\n",
       "      <td>36.000000</td>\n",
       "      <td>1.000000</td>\n",
       "      <td>28.000000</td>\n",
       "      <td>0.000000</td>\n",
       "      <td>31669.000000</td>\n",
       "      <td>133.000000</td>\n",
       "      <td>154.000000</td>\n",
       "      <td>0.000000</td>\n",
       "    </tr>\n",
       "    <tr>\n",
       "      <th>75%</th>\n",
       "      <td>285832.000000</td>\n",
       "      <td>49.000000</td>\n",
       "      <td>1.000000</td>\n",
       "      <td>35.000000</td>\n",
       "      <td>1.000000</td>\n",
       "      <td>39400.000000</td>\n",
       "      <td>152.000000</td>\n",
       "      <td>227.000000</td>\n",
       "      <td>0.000000</td>\n",
       "    </tr>\n",
       "    <tr>\n",
       "      <th>max</th>\n",
       "      <td>381109.000000</td>\n",
       "      <td>85.000000</td>\n",
       "      <td>1.000000</td>\n",
       "      <td>52.000000</td>\n",
       "      <td>1.000000</td>\n",
       "      <td>540165.000000</td>\n",
       "      <td>163.000000</td>\n",
       "      <td>299.000000</td>\n",
       "      <td>1.000000</td>\n",
       "    </tr>\n",
       "  </tbody>\n",
       "</table>\n",
       "</div>"
      ],
      "text/plain": [
       "                  id            Age  Driving_License    Region_Code  \\\n",
       "count  381109.000000  381109.000000    381109.000000  381109.000000   \n",
       "mean   190555.000000      38.822584         0.997869      26.388807   \n",
       "std    110016.836208      15.511611         0.046110      13.229888   \n",
       "min         1.000000      20.000000         0.000000       0.000000   \n",
       "25%     95278.000000      25.000000         1.000000      15.000000   \n",
       "50%    190555.000000      36.000000         1.000000      28.000000   \n",
       "75%    285832.000000      49.000000         1.000000      35.000000   \n",
       "max    381109.000000      85.000000         1.000000      52.000000   \n",
       "\n",
       "       Previously_Insured  Annual_Premium  Policy_Sales_Channel  \\\n",
       "count       381109.000000   381109.000000         381109.000000   \n",
       "mean             0.458210    30564.389581            112.034295   \n",
       "std              0.498251    17213.155057             54.203995   \n",
       "min              0.000000     2630.000000              1.000000   \n",
       "25%              0.000000    24405.000000             29.000000   \n",
       "50%              0.000000    31669.000000            133.000000   \n",
       "75%              1.000000    39400.000000            152.000000   \n",
       "max              1.000000   540165.000000            163.000000   \n",
       "\n",
       "             Vintage       Response  \n",
       "count  381109.000000  381109.000000  \n",
       "mean      154.347397       0.122563  \n",
       "std        83.671304       0.327936  \n",
       "min        10.000000       0.000000  \n",
       "25%        82.000000       0.000000  \n",
       "50%       154.000000       0.000000  \n",
       "75%       227.000000       0.000000  \n",
       "max       299.000000       1.000000  "
      ]
     },
     "execution_count": 8,
     "metadata": {},
     "output_type": "execute_result"
    }
   ],
   "source": [
    "data.describe() "
   ]
  },
  {
   "cell_type": "code",
   "execution_count": 9,
   "id": "fd436e86",
   "metadata": {},
   "outputs": [],
   "source": [
    "# Creating copy of the current data and assigning to df\n",
    "df=data.copy()"
   ]
  },
  {
   "cell_type": "code",
   "execution_count": 10,
   "id": "233a59a3",
   "metadata": {},
   "outputs": [],
   "source": [
    "# Creating interested Response dataset\n",
    "df_Response=df[(df['Response']==1)]"
   ]
  },
  {
   "cell_type": "code",
   "execution_count": 11,
   "id": "29e42b69",
   "metadata": {},
   "outputs": [
    {
     "data": {
      "text/plain": [
       "0    334399\n",
       "1     46710\n",
       "Name: Response, dtype: int64"
      ]
     },
     "execution_count": 11,
     "metadata": {},
     "output_type": "execute_result"
    }
   ],
   "source": [
    "df['Response'].value_counts()"
   ]
  },
  {
   "cell_type": "markdown",
   "id": "af19a98b",
   "metadata": {},
   "source": [
    "## Exploring Response Labels - Univariate analysis"
   ]
  },
  {
   "cell_type": "code",
   "execution_count": 12,
   "id": "c14e1428",
   "metadata": {},
   "outputs": [
    {
     "data": {
      "text/plain": [
       "Text(0.5, 1.0, 'Pie Chart For Response')"
      ]
     },
     "execution_count": 12,
     "metadata": {},
     "output_type": "execute_result"
    },
    {
     "data": {
      "image/png": "[encoded data removed]",
      "text/plain": [
       "<Figure size 500x500 with 1 Axes>"
      ]
     },
     "metadata": {},
     "output_type": "display_data"
    }
   ],
   "source": [
    "df['Response'].value_counts().plot.pie(explode=[0.05,0.05], autopct='%1.1f%%',startangle=90, figsize=(5,5))\n",
    "plt.title('Pie Chart For Response')"
   ]
  },
  {
   "cell_type": "markdown",
   "id": "c737f646",
   "metadata": {},
   "source": [
    "##### 1. Why did you pick the specific chart?\n",
    "\n",
    "Pie charts can be used to show percentages of a whole, and represents percentages at a set point in time. Unlike bar graphs and line graphs, pie charts do not show changes over time.\n",
    "\n",
    "##### 2. What is/are the insight(s) found from the chart?\n",
    "\n",
    "Our data is imblance\n",
    "\n",
    "Any data with unequal class distribution is technically imblance.\n",
    "\n",
    "In our data 87.7% data not interested Response and remaining 12.3%  interested. \n",
    "\n",
    "##### 3. Will the gained insights help creating a positive business impact? \n",
    "\n",
    "In your case, with 87.7% of the data being \"not interested\" in purchasing vehicle insurance, and only 12.3% being \"interested\", the model may not be able to accurately predict the \"interested\" class. This could lead to a high number of false negatives (predicting \"not interested\" when the customer is actually \"interested\") and a low number of true positives (predicting \"interested\" when the customer is actually \"interested\").\n",
    "\n",
    "If the data is highly imbalanced, with a large majority of the data belonging to one class, it can be difficult for a model to accurately predict the minority class. This is because the model will likely be trained to predict the majority class more often, resulting in a higher accuracy overall but a lower accuracy for the minority class."
   ]
  },
  {
   "cell_type": "markdown",
   "id": "0eed4f2e",
   "metadata": {},
   "source": [
    "## Exploring Gender feature - Univariate and Bivariate analysis"
   ]
  },
  {
   "cell_type": "code",
   "execution_count": 13,
   "id": "cb0754ba",
   "metadata": {},
   "outputs": [
    {
     "data": {
      "text/plain": [
       "array(['Male', 'Female'], dtype=object)"
      ]
     },
     "execution_count": 13,
     "metadata": {},
     "output_type": "execute_result"
    }
   ],
   "source": [
    "# Number of Unique gender\n",
    "\n",
    "df['Gender'].unique()"
   ]
  },
  {
   "cell_type": "code",
   "execution_count": 14,
   "id": "afdc2e4f",
   "metadata": {},
   "outputs": [
    {
     "data": {
      "text/plain": [
       "Text(0.5, 1.0, 'Pie Chart For Gender')"
      ]
     },
     "execution_count": 14,
     "metadata": {},
     "output_type": "execute_result"
    },
    {
     "data": {
      "image/png": "[encoded data removed]",
      "text/plain": [
       "<Figure size 500x500 with 1 Axes>"
      ]
     },
     "metadata": {},
     "output_type": "display_data"
    }
   ],
   "source": [
    "df['Gender'].value_counts().plot.pie(explode=[0.05,0.05], autopct='%1.1f%%',startangle=90, figsize=(5,5))\n",
    "plt.title('Pie Chart For Gender')"
   ]
  },
  {
   "cell_type": "markdown",
   "id": "0b4a209f",
   "metadata": {},
   "source": [
    "##### 1. Why did you pick the specific chart?\n",
    "\n",
    "Pie charts can be used to show percentages of a whole, and represents percentages at a set point in time. Unlike bar graphs and line graphs, pie charts do not show changes over time.\n",
    "\n",
    "##### 2. What is/are the insight(s) found from the chart?\n",
    "\n",
    "In our data 54.1% Male and 45.9%  Female. \n"
   ]
  },
  {
   "cell_type": "code",
   "execution_count": 19,
   "id": "2a3f2ffa",
   "metadata": {},
   "outputs": [],
   "source": [
    "# sns.set(style=\"whitegrid\")\n",
    "# plt.figure(figsize=(8,5))\n",
    "# total = float(len(df))\n",
    "# ax = sns.countplot(x=\"Gender\", hue=\"Response\", data=df)\n",
    "# plt.title('Data provided for each event', fontsize=20)\n",
    "# for p in ax.patches:\n",
    "#     percentage = '{:.1f}%'.format(100 * p.get_height()/total)\n",
    "#     x = p.get_x() + p.get_width()\n",
    "#     y = p.get_height()\n",
    "#     ax.annotate(percentage, (x, y),ha='center')\n",
    "# plt.show()"
   ]
  },
  {
   "cell_type": "code",
   "execution_count": 25,
   "id": "e5826853",
   "metadata": {},
   "outputs": [
    {
     "data": {
      "text/html": [
       "<div>\n",
       "<style scoped>\n",
       "    .dataframe tbody tr th:only-of-type {\n",
       "        vertical-align: middle;\n",
       "    }\n",
       "\n",
       "    .dataframe tbody tr th {\n",
       "        vertical-align: top;\n",
       "    }\n",
       "\n",
       "    .dataframe thead th {\n",
       "        text-align: right;\n",
       "    }\n",
       "</style>\n",
       "<table border=\"1\" class=\"dataframe\">\n",
       "  <thead>\n",
       "    <tr style=\"text-align: right;\">\n",
       "      <th></th>\n",
       "      <th>Gender</th>\n",
       "      <th>interested_response</th>\n",
       "      <th>not_interested_response</th>\n",
       "      <th>interested_response %</th>\n",
       "      <th>not_interested_response %</th>\n",
       "    </tr>\n",
       "  </thead>\n",
       "  <tbody>\n",
       "    <tr>\n",
       "      <th>0</th>\n",
       "      <td>Male</td>\n",
       "      <td>28525</td>\n",
       "      <td>177564</td>\n",
       "      <td>13.84</td>\n",
       "      <td>86.16</td>\n",
       "    </tr>\n",
       "    <tr>\n",
       "      <th>1</th>\n",
       "      <td>Female</td>\n",
       "      <td>18185</td>\n",
       "      <td>156835</td>\n",
       "      <td>10.39</td>\n",
       "      <td>89.61</td>\n",
       "    </tr>\n",
       "  </tbody>\n",
       "</table>\n",
       "</div>"
      ],
      "text/plain": [
       "   Gender  interested_response  not_interested_response  \\\n",
       "0    Male                28525                   177564   \n",
       "1  Female                18185                   156835   \n",
       "\n",
       "   interested_response %  not_interested_response %  \n",
       "0                  13.84                      86.16  \n",
       "1                  10.39                      89.61  "
      ]
     },
     "execution_count": 25,
     "metadata": {},
     "output_type": "execute_result"
    }
   ],
   "source": [
    "# creating df_genderwise_Response_count%\n",
    "\n",
    "gender=df['Gender'].unique()\n",
    "interested_response=[df[(df['Gender']==gen)]['Response'].value_counts()[1] for gen in gender]\n",
    "not_interested_response=[df[(df['Gender']==gen)]['Response'].value_counts()[0] for gen in gender]\n",
    "\n",
    "df_genderwise_Response_count=pd.DataFrame({'Gender' : gender,\n",
    "                                       'interested_response'  : interested_response,\n",
    "                                       'not_interested_response' : not_interested_response})\n",
    "df_genderwise_Response_count\n",
    "df_genderwise_Response_count['interested_response %']= round(((df_genderwise_Response_count['interested_response'])/\n",
    "                                                 ((df_genderwise_Response_count['interested_response'])+ \n",
    "                                                         (df_genderwise_Response_count['not_interested_response'])))*100,2)\n",
    "df_genderwise_Response_count['not_interested_response %']= round(((df_genderwise_Response_count['not_interested_response'])/\n",
    "                                                  ((df_genderwise_Response_count['interested_response'])+ \n",
    "                                                         (df_genderwise_Response_count['not_interested_response'])))*100,2)\n",
    "df_genderwise_Response_count"
   ]
  },
  {
   "cell_type": "code",
   "execution_count": 16,
   "id": "0e17d3a1",
   "metadata": {},
   "outputs": [
    {
     "data": {
      "text/plain": [
       "Text(0.5, 1.0, 'Response count gender wise')"
      ]
     },
     "execution_count": 16,
     "metadata": {},
     "output_type": "execute_result"
    },
    {
     "data": {
      "image/png": "[encoded data removed]",
      "text/plain": [
       "<Figure size 1000x500 with 1 Axes>"
      ]
     },
     "metadata": {},
     "output_type": "display_data"
    }
   ],
   "source": [
    "# Ploting Response count gender wise\n",
    "\n",
    "fig, ax = plt.subplots(figsize=(10,5))\n",
    "sns.countplot(x=df['Gender'],hue='Response',data=df)\n",
    "plt.title('Response count gender wise')"
   ]
  },
  {
   "cell_type": "markdown",
   "id": "e7fbf933",
   "metadata": {},
   "source": [
    "##### 1. Why did you pick the specific chart?\n",
    "\n",
    "Easy to understand: Bar charts are simple and straightforward, making it easy for people to understand the data being presented.\n",
    "\n",
    "Comparisons: Bar charts allow for easy comparison of data between different categories or groups.\n",
    "\n",
    "To show the average percentage of true churn with respect to area code, I have used Bar Chart.\n",
    "\n",
    "##### 2. What is/are the insight(s) found from the chart?\n",
    "\n",
    "There are two gender\n",
    "\n",
    "interested response of males are 13.84% \n",
    "\n",
    "interested response of females are 10.39% \n",
    "\n",
    "##### 3. Will the gained insights help creating a positive business impact?   \n",
    "\n",
    "Yes, The insight that the interested response rate for males is higher (13.84%) than for females (10.39%) could be used to inform the company's marketing efforts."
   ]
  },
  {
   "cell_type": "markdown",
   "id": "6bf3c95a",
   "metadata": {},
   "source": [
    "## Exploring Gender feature - Univariate and Bivariate analysis"
   ]
  },
  {
   "cell_type": "code",
   "execution_count": 26,
   "id": "bb81604c",
   "metadata": {},
   "outputs": [],
   "source": [
    "# Creating df of age with respect to interested_response and not_interested_response\n",
    "\n",
    "Age_interested_response=df[(df['Response']==1)]\n",
    "Age_not_interested_response=df[(df['Response']==0)]"
   ]
  },
  {
   "cell_type": "code",
   "execution_count": 28,
   "id": "6c211a27",
   "metadata": {},
   "outputs": [
    {
     "name": "stdout",
     "output_type": "stream",
     "text": [
      "Mean of Age of all data 38.822583565331705\n",
      "Mean of Age of interested response 43.435559837293944\n",
      "Mean of Age of not interested response 38.17822720761725\n"
     ]
    }
   ],
   "source": [
    "# Mean \n",
    "\n",
    "print('Mean of Age of all data',df['Age'].mean())\n",
    "print('Mean of Age of interested response',Age_interested_response['Age'].mean())\n",
    "print('Mean of Age of not interested response',Age_not_interested_response['Age'].mean())"
   ]
  },
  {
   "cell_type": "code",
   "execution_count": 30,
   "id": "5ab39b04",
   "metadata": {},
   "outputs": [
    {
     "name": "stdout",
     "output_type": "stream",
     "text": [
      "Median of Age of all data 36.0\n",
      "Median of Age of interested response 43.0\n",
      "Median of Age of not interested response 34.0\n"
     ]
    }
   ],
   "source": [
    "# Median \n",
    "\n",
    "print('Median of Age of all data',df['Age'].median())\n",
    "print('Median of Age of interested response',Age_interested_response['Age'].median())\n",
    "print('Median of Age of not interested response',Age_not_interested_response['Age'].median())"
   ]
  },
  {
   "cell_type": "code",
   "execution_count": 35,
   "id": "08bf5813",
   "metadata": {},
   "outputs": [
    {
     "data": {
      "text/plain": [
       "<matplotlib.legend.Legend at 0x173f952f580>"
      ]
     },
     "execution_count": 35,
     "metadata": {},
     "output_type": "execute_result"
    },
    {
     "data": {
      "image/png": "[encoded data removed]",
      "text/plain": [
       "<Figure size 640x480 with 1 Axes>"
      ]
     },
     "metadata": {},
     "output_type": "display_data"
    }
   ],
   "source": [
    "sns.distplot(df['Age'], color='blue' , label='All') \n",
    "sns.distplot(Age_interested_response['Age'],color='red' , label='interested_response',hist=False)\n",
    "sns.distplot(Age_not_interested_response['Age'],color='green' , label='not_interested_response',hist=False) \n",
    "plt.legend()"
   ]
  },
  {
   "cell_type": "markdown",
   "id": "0bb62f7d",
   "metadata": {},
   "source": [
    "##### 1. Why did you pick the specific chart?\n",
    "\n",
    "The distplot, or distribution plot, is a useful tool in Exploratory Data Analysis (EDA) for visualizing the distribution of a dataset. It combines a histogram, which shows the frequency of data points in different bins which shows the probability density function of the data.\n",
    "\n",
    "To know the distribution of feature\n",
    "\n",
    "##### 2. What is/are the insight(s) found from the chart?\n",
    "It appears that the mean and median age of customers who are \"interested\" in purchasing vehicle insurance is higher than the mean and median age of customers who are \"not interested\" in purchasing vehicle insurance.\n",
    "\n",
    "The mean age of all customers is 38.82, while the mean age of \"interested\" customers is 43.44, and the mean age of \"not interested\" customers is 38.18. Similarly, the median age of all customers is 36.0, while the median age of \"interested\" customers is 43.0, and the median age of \"not interested\" customers is 34.0.\n",
    "\n",
    "##### 3. Will the gained insights help creating a positive business impact?  \n",
    "The insights gained from the mean and median age of all data, as well as the mean and median age of the \"interested\" and \"not interested\" responses can potentially help create a positive business impact for the insurance company.\n",
    "\n",
    "From the chart, it appears that the mean and median age of customers who are \"interested\" in purchasing vehicle insurance is higher than those who are \"not interested.\" This suggests that older customers may be more likely to be interested in purchasing additional insurance policies from the company.\n",
    "\n",
    "The company can use this information to target their marketing efforts towards older customers, as they may be more likely to respond positively to offers for vehicle insurance. \n",
    "\n",
    "Additionally, the company may also want to consider offering discounts or promotions to older customers in order to incentivize them to purchase additional policies."
   ]
  },
  {
   "cell_type": "code",
   "execution_count": 37,
   "id": "c2ff20f6",
   "metadata": {},
   "outputs": [
    {
     "data": {
      "text/plain": [
       "<Figure size 1000x800 with 0 Axes>"
      ]
     },
     "metadata": {},
     "output_type": "display_data"
    },
    {
     "data": {
      "image/png": "[encoded data removed]",
      "text/plain": [
       "<Figure size 640x480 with 1 Axes>"
      ]
     },
     "metadata": {},
     "output_type": "display_data"
    }
   ],
   "source": [
    "#Analysing by using boxplot diagram between 'Age' and 'response'\n",
    "fig = plt.figure(figsize =(10, 8)) \n",
    "df.boxplot(column='Age', by='Response')\n",
    "fig.suptitle('Age', fontsize=14, fontweight='bold')\n",
    "plt.show()"
   ]
  },
  {
   "cell_type": "markdown",
   "id": "0ea020f9",
   "metadata": {},
   "source": [
    "##### 1. Why did you pick the specific chart?\n",
    "\n",
    "boxplots are useful for identifying patterns and outliers in the data. For example, if a boxplot shows a large number of outliers, it could indicate an issue with the data collection or a potential problem with the data. Additionally, boxplots can be used to compare the distribution of different datasets, or to compare the distribution of a single dataset across different groups or categories.\n",
    "\n",
    "##### 2. What is/are the insight(s) found from the chart?\n",
    "\n",
    "the age have some outliers in upper side of interested response\n",
    "\n",
    "##### 3. Will the gained insights help creating a positive business impact?\n",
    "The insight that age has some outliers in the upper side of the \"interested\" response in a Health Insurance Cross Sell Prediction, could potentially be useful in creating a positive business impact.\n",
    "\n",
    "It suggests that older customers may be more likely to be interested in purchasing vehicle insurance from the company. This information can be used to target marketing efforts to older age groups, or to tailor the sales pitch to better appeal to older customers."
   ]
  },
  {
   "cell_type": "markdown",
   "id": "06e42187",
   "metadata": {},
   "source": [
    "## Exploring Driving_License feature - Univariate and Bivariate analysis\n"
   ]
  },
  {
   "cell_type": "code",
   "execution_count": 38,
   "id": "41a4c3b1",
   "metadata": {},
   "outputs": [
    {
     "data": {
      "text/plain": [
       "array([1, 0], dtype=int64)"
      ]
     },
     "execution_count": 38,
     "metadata": {},
     "output_type": "execute_result"
    }
   ],
   "source": [
    "# cheking unique values\n",
    "\n",
    "df['Driving_License'].unique()"
   ]
  },
  {
   "cell_type": "code",
   "execution_count": 39,
   "id": "14eb543b",
   "metadata": {},
   "outputs": [
    {
     "data": {
      "text/plain": [
       "1    380297\n",
       "0       812\n",
       "Name: Driving_License, dtype: int64"
      ]
     },
     "execution_count": 39,
     "metadata": {},
     "output_type": "execute_result"
    }
   ],
   "source": [
    "# checking value count\n",
    "df['Driving_License'].value_counts()"
   ]
  },
  {
   "cell_type": "code",
   "execution_count": 40,
   "id": "84eda2ca",
   "metadata": {},
   "outputs": [
    {
     "data": {
      "text/plain": [
       "Text(0.5, 1.0, 'Pie Chart For Driving_License')"
      ]
     },
     "execution_count": 40,
     "metadata": {},
     "output_type": "execute_result"
    },
    {
     "data": {
      "image/png": "[encoded data removed]",
      "text/plain": [
       "<Figure size 500x500 with 1 Axes>"
      ]
     },
     "metadata": {},
     "output_type": "display_data"
    }
   ],
   "source": [
    "# Ploting value counts\n",
    "\n",
    "df['Driving_License'].value_counts().plot.pie(explode=[0.05,0.05], autopct='%1.1f%%',startangle=90, figsize=(5,5))\n",
    "plt.title('Pie Chart For Driving_License')"
   ]
  },
  {
   "cell_type": "markdown",
   "id": "7b3f7836",
   "metadata": {},
   "source": [
    "##### 1. Why did you pick the specific chart?\n",
    "\n",
    "Pie charts can be used to show percentages of a whole, and represents percentages at a set point in time. Unlike bar graphs and line graphs, pie charts do not show changes over time.\n",
    "\n",
    "##### 2. What is/are the insight(s) found from the chart?\n",
    "\n",
    "Only 0.2% customer did not have Driving License."
   ]
  },
  {
   "cell_type": "code",
   "execution_count": null,
   "id": "847faa8e",
   "metadata": {},
   "outputs": [],
   "source": []
  }
 ],
 "metadata": {
  "kernelspec": {
   "display_name": "Python 3 (ipykernel)",
   "language": "python",
   "name": "python3"
  },
  "language_info": {
   "codemirror_mode": {
    "name": "ipython",
    "version": 3
   },
   "file_extension": ".py",
   "mimetype": "text/x-python",
   "name": "python",
   "nbconvert_exporter": "python",
   "pygments_lexer": "ipython3",
   "version": "3.9.15"
  }
 },
 "nbformat": 4,
 "nbformat_minor": 5
}
